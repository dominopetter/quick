{
 "cells": [
  {
   "cell_type": "code",
   "execution_count": null,
   "id": "c347bbb2-7cf8-4369-b3b2-fabb23bbc03a",
   "metadata": {},
   "outputs": [
    {
     "name": "stdout",
     "output_type": "stream",
     "text": [
      "Experiment id: 725\n",
      "Experiment name: LENOVO_svm-digit-classifier-petter-1711972639\n",
      "Running SVM classifier with C=0.1, gamma=0.001\n"
     ]
    },
    {
     "name": "stderr",
     "output_type": "stream",
     "text": [
      "/opt/conda/lib/python3.9/site-packages/_distutils_hack/__init__.py:18: UserWarning: Distutils was imported before Setuptools, but importing Setuptools also replaces the `distutils` module in `sys.modules`. This may lead to undesirable behaviors or errors. To avoid these issues, avoid using distutils directly, ensure that setuptools is installed in the traditional way (e.g. not an editable install), and/or make sure that setuptools is always imported before distutils.\n",
      "  warnings.warn(\n",
      "/opt/conda/lib/python3.9/site-packages/_distutils_hack/__init__.py:33: UserWarning: Setuptools is replacing distutils.\n",
      "  warnings.warn(\"Setuptools is replacing distutils.\")\n"
     ]
    },
    {
     "name": "stdout",
     "output_type": "stream",
     "text": [
      "Running SVM classifier with C=0.1, gamma=0.01\n"
     ]
    },
    {
     "name": "stderr",
     "output_type": "stream",
     "text": [
      "/opt/conda/lib/python3.9/site-packages/sklearn/metrics/_classification.py:1509: UndefinedMetricWarning: Precision is ill-defined and being set to 0.0 in labels with no predicted samples. Use `zero_division` parameter to control this behavior.\n",
      "  _warn_prf(average, modifier, f\"{metric.capitalize()} is\", len(result))\n",
      "/opt/conda/lib/python3.9/site-packages/sklearn/metrics/_classification.py:1509: UndefinedMetricWarning: Precision is ill-defined and being set to 0.0 in labels with no predicted samples. Use `zero_division` parameter to control this behavior.\n",
      "  _warn_prf(average, modifier, f\"{metric.capitalize()} is\", len(result))\n",
      "/opt/conda/lib/python3.9/site-packages/sklearn/metrics/_classification.py:1509: UndefinedMetricWarning: Precision is ill-defined and being set to 0.0 in labels with no predicted samples. Use `zero_division` parameter to control this behavior.\n",
      "  _warn_prf(average, modifier, f\"{metric.capitalize()} is\", len(result))\n",
      "/opt/conda/lib/python3.9/site-packages/_distutils_hack/__init__.py:18: UserWarning: Distutils was imported before Setuptools, but importing Setuptools also replaces the `distutils` module in `sys.modules`. This may lead to undesirable behaviors or errors. To avoid these issues, avoid using distutils directly, ensure that setuptools is installed in the traditional way (e.g. not an editable install), and/or make sure that setuptools is always imported before distutils.\n",
      "  warnings.warn(\n",
      "/opt/conda/lib/python3.9/site-packages/_distutils_hack/__init__.py:33: UserWarning: Setuptools is replacing distutils.\n",
      "  warnings.warn(\"Setuptools is replacing distutils.\")\n"
     ]
    },
    {
     "name": "stdout",
     "output_type": "stream",
     "text": [
      "Running SVM classifier with C=1, gamma=0.001\n"
     ]
    },
    {
     "name": "stderr",
     "output_type": "stream",
     "text": [
      "/opt/conda/lib/python3.9/site-packages/_distutils_hack/__init__.py:18: UserWarning: Distutils was imported before Setuptools, but importing Setuptools also replaces the `distutils` module in `sys.modules`. This may lead to undesirable behaviors or errors. To avoid these issues, avoid using distutils directly, ensure that setuptools is installed in the traditional way (e.g. not an editable install), and/or make sure that setuptools is always imported before distutils.\n",
      "  warnings.warn(\n",
      "/opt/conda/lib/python3.9/site-packages/_distutils_hack/__init__.py:33: UserWarning: Setuptools is replacing distutils.\n",
      "  warnings.warn(\"Setuptools is replacing distutils.\")\n"
     ]
    },
    {
     "name": "stdout",
     "output_type": "stream",
     "text": [
      "Running SVM classifier with C=1, gamma=0.01\n"
     ]
    },
    {
     "name": "stderr",
     "output_type": "stream",
     "text": [
      "/opt/conda/lib/python3.9/site-packages/_distutils_hack/__init__.py:18: UserWarning: Distutils was imported before Setuptools, but importing Setuptools also replaces the `distutils` module in `sys.modules`. This may lead to undesirable behaviors or errors. To avoid these issues, avoid using distutils directly, ensure that setuptools is installed in the traditional way (e.g. not an editable install), and/or make sure that setuptools is always imported before distutils.\n",
      "  warnings.warn(\n",
      "/opt/conda/lib/python3.9/site-packages/_distutils_hack/__init__.py:33: UserWarning: Setuptools is replacing distutils.\n",
      "  warnings.warn(\"Setuptools is replacing distutils.\")\n"
     ]
    },
    {
     "name": "stdout",
     "output_type": "stream",
     "text": [
      "Running SVM classifier with C=10, gamma=0.001\n"
     ]
    }
   ],
   "source": [
    "import os\n",
    "import time\n",
    "import numpy as np\n",
    "from sklearn import datasets, metrics, svm\n",
    "from sklearn.model_selection import train_test_split\n",
    "import mlflow\n",
    "\n",
    "def create_experiment(name_prefix=\"LENOVO_svm-digit-classifier\"):\n",
    "    timestamp = int(time.time())\n",
    "    username = os.getenv('DOMINO_STARTING_USERNAME', 'default_user')\n",
    "    experiment_name = f\"{name_prefix}-{username}-{timestamp}\"\n",
    "    experiment_id = mlflow.create_experiment(experiment_name)\n",
    "    print(f\"Experiment id: {experiment_id}\")\n",
    "    print(f\"Experiment name: {experiment_name}\")\n",
    "    return experiment_id\n",
    "\n",
    "def prepare_data():\n",
    "    digits = datasets.load_digits()\n",
    "    n_samples = len(digits.images)\n",
    "    data = digits.images.reshape((n_samples, -1))\n",
    "    return train_test_split(data, digits.target, test_size=0.20, shuffle=False)\n",
    "\n",
    "def log_metrics_and_params(predicted, test_y, svc_params):\n",
    "    report = metrics.classification_report(test_y, predicted, output_dict=True)\n",
    "    mlflow.log_params(svc_params)\n",
    "    for metric in (\"precision\", \"recall\", \"f1-score\"):\n",
    "        for digit in range(10):\n",
    "            mlflow.log_metric(f\"{metric}_{digit}\", report[str(digit)][metric])\n",
    "        mlflow.log_metric(f\"{metric}_macro_avg\", report['macro avg'][metric])\n",
    "        mlflow.log_metric(f\"{metric}_weighted_avg\", report['weighted avg'][metric])\n",
    "    mlflow.log_metric(\"accuracy\", report[\"accuracy\"])\n",
    "\n",
    "def run_svm_classifier(train_x, train_y, test_x, test_y, C, gamma):\n",
    "    svc_params = {\"kernel\": \"rbf\", \"C\": C, \"gamma\": gamma, \"random_state\": 42}\n",
    "    classifier = svm.SVC(**svc_params).fit(train_x, train_y)\n",
    "    predicted = classifier.predict(test_x)\n",
    "    log_metrics_and_params(predicted, test_y, svc_params)\n",
    "    mlflow.sklearn.log_model(classifier, \"model\")\n",
    "\n",
    "def main():\n",
    "    experiment_id = create_experiment()\n",
    "    train_x, test_x, train_y, test_y = prepare_data()\n",
    "\n",
    "    # Define a small set of hyperparameters for demonstration.\n",
    "    parameters = [(C, gamma) for C in [0.1, 1, 10] for gamma in [0.001, 0.01]]\n",
    "\n",
    "    for C, gamma in parameters:\n",
    "        with mlflow.start_run(experiment_id=experiment_id):\n",
    "            print(f\"Running SVM classifier with C={C}, gamma={gamma}\")\n",
    "            run_svm_classifier(train_x, train_y, test_x, test_y, C, gamma)\n",
    "\n",
    "if __name__ == \"__main__\":\n",
    "    main()"
   ]
  },
  {
   "cell_type": "code",
   "execution_count": null,
   "id": "891ca6bd-8a2c-4d3f-b150-2c16131dce68",
   "metadata": {},
   "outputs": [],
   "source": []
  }
 ],
 "metadata": {
  "kernelspec": {
   "display_name": "Python 3 (ipykernel)",
   "language": "python",
   "name": "python3"
  },
  "language_info": {
   "codemirror_mode": {
    "name": "ipython",
    "version": 3
   },
   "file_extension": ".py",
   "mimetype": "text/x-python",
   "name": "python",
   "nbconvert_exporter": "python",
   "pygments_lexer": "ipython3",
   "version": "3.9.18"
  }
 },
 "nbformat": 4,
 "nbformat_minor": 5
}
