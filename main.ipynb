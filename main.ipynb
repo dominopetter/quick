{
 "cells": [
  {
   "cell_type": "markdown",
   "metadata": {},
   "source": [
    "## This is a sample Jupyter notebook.\n"
   ]
  },
  {
   "cell_type": "markdown",
   "metadata": {},
   "source": [
    "First things first, let's import dependencies and tell Jupyter to show matplot plots inline"
   ]
  },
  {
   "cell_type": "code",
   "execution_count": 1,
   "metadata": {
    "collapsed": false,
    "execution": {
     "iopub.execute_input": "2023-08-25T06:43:12.996958Z",
     "iopub.status.busy": "2023-08-25T06:43:12.996662Z",
     "iopub.status.idle": "2023-08-25T06:43:15.594505Z",
     "shell.execute_reply": "2023-08-25T06:43:15.593856Z"
    }
   },
   "outputs": [],
   "source": [
    "# Import dependencies\n",
    "import random\n",
    "import matplotlib.pyplot as plt\n",
    "import json\n",
    "import os\n",
    "\n",
    "# Tell Jupyter to show matplot plots inline\n",
    "%matplotlib inline  "
   ]
  },
  {
   "cell_type": "markdown",
   "metadata": {},
   "source": [
    "### Print to console/stdout"
   ]
  },
  {
   "cell_type": "code",
   "execution_count": 2,
   "metadata": {
    "collapsed": false,
    "execution": {
     "iopub.execute_input": "2023-08-25T06:43:15.597741Z",
     "iopub.status.busy": "2023-08-25T06:43:15.597391Z",
     "iopub.status.idle": "2023-08-25T06:43:15.601610Z",
     "shell.execute_reply": "2023-08-25T06:43:15.600920Z"
    }
   },
   "outputs": [
    {
     "name": "stdout",
     "output_type": "stream",
     "text": [
      "Hello, petter!\n"
     ]
    }
   ],
   "source": [
    "print(\"Hello, {0}!\".format(os.environ['DOMINO_PROJECT_OWNER']))"
   ]
  },
  {
   "cell_type": "markdown",
   "metadata": {},
   "source": [
    "### Define a helper function to generate a random number"
   ]
  },
  {
   "cell_type": "code",
   "execution_count": 3,
   "metadata": {
    "collapsed": true,
    "execution": {
     "iopub.execute_input": "2023-08-25T06:43:15.643610Z",
     "iopub.status.busy": "2023-08-25T06:43:15.643051Z",
     "iopub.status.idle": "2023-08-25T06:43:15.646527Z",
     "shell.execute_reply": "2023-08-25T06:43:15.645955Z"
    }
   },
   "outputs": [],
   "source": [
    "def random_number(start, stop):\n",
    "    return random.uniform(start, stop)"
   ]
  },
  {
   "cell_type": "markdown",
   "metadata": {},
   "source": [
    "### Plot the values of random points"
   ]
  },
  {
   "cell_type": "code",
   "execution_count": 4,
   "metadata": {
    "collapsed": false,
    "execution": {
     "iopub.execute_input": "2023-08-25T06:43:15.649166Z",
     "iopub.status.busy": "2023-08-25T06:43:15.648738Z",
     "iopub.status.idle": "2023-08-25T06:43:16.081017Z",
     "shell.execute_reply": "2023-08-25T06:43:16.080425Z"
    }
   },
   "outputs": [
    {
     "data": {
      "image/png": "[encoded data removed]",
      "text/plain": [
       "<Figure size 640x480 with 1 Axes>"
      ]
     },
     "metadata": {},
     "output_type": "display_data"
    },
    {
     "data": {
      "text/plain": [
       "<Figure size 640x480 with 0 Axes>"
      ]
     },
     "metadata": {},
     "output_type": "display_data"
    }
   ],
   "source": [
    "x = random.sample(range(1000), 100)\n",
    "xbins = [0, len(x)]\n",
    "plt.bar(range(0,100), x)\n",
    "plt.show()\n",
    "plt.savefig('results/myChart.png',format='png')"
   ]
  },
  {
   "cell_type": "markdown",
   "metadata": {},
   "source": [
    "### Generate and save some [key statistics to dominostats.json](https://docs.dominodatalab.com/en/latest/reference/runs/Diagnostic_statistics_with_dominostats.json.html)\n"
   ]
  },
  {
   "cell_type": "code",
   "execution_count": 5,
   "metadata": {
    "collapsed": true,
    "execution": {
     "iopub.execute_input": "2023-08-25T06:43:16.083710Z",
     "iopub.status.busy": "2023-08-25T06:43:16.083431Z",
     "iopub.status.idle": "2023-08-25T06:43:16.087418Z",
     "shell.execute_reply": "2023-08-25T06:43:16.086880Z"
    }
   },
   "outputs": [],
   "source": [
    "r2 = round(random_number(0,1), 4)\n",
    "p = round(random_number(0,1), 4)\n",
    "with open('dominostats.json', 'w') as f:\n",
    "    f.write(json.dumps({\"R^2\": r2, \"p-value\": p}))"
   ]
  },
  {
   "cell_type": "code",
   "execution_count": null,
   "metadata": {},
   "outputs": [],
   "source": []
  }
 ],
 "metadata": {
  "kernelspec": {
   "display_name": "Python 3",
   "language": "python",
   "name": "python3"
  },
  "language_info": {
   "codemirror_mode": {
    "name": "ipython",
    "version": 3
   },
   "file_extension": ".py",
   "mimetype": "text/x-python",
   "name": "python",
   "nbconvert_exporter": "python",
   "pygments_lexer": "ipython3",
   "version": "3.9.16"
  }
 },
 "nbformat": 4,
 "nbformat_minor": 2
}
